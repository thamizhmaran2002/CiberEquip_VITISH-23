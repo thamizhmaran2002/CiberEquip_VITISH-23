{
  "nbformat": 4,
  "nbformat_minor": 0,
  "metadata": {
    "colab": {
      "provenance": []
    },
    "kernelspec": {
      "name": "python3",
      "display_name": "Python 3"
    },
    "language_info": {
      "name": "python"
    }
  },
  "cells": [
    {
      "cell_type": "code",
      "source": [
        "import cv2\n",
        "import os\n",
        "\n",
        "# Path of the video file\n",
        "video_path = \"/content/cctv_video.mp4\"\n",
        "\n",
        "# Create a directory to save the key frames\n",
        "if not os.path.exists(\"key_frames\"):\n",
        "  os.makedirs(\"key_frames\")\n",
        "\n",
        "# Set the threshold for SAD score\n",
        "threshold = 100000\n",
        "\n",
        "# Open the video file\n",
        "vidcap = cv2.VideoCapture(video_path)\n",
        "\n",
        "# Get the frame rate of the video\n",
        "fps = vidcap.get(cv2.CAP_PROP_FPS)\n",
        "\n",
        "# Read the first frame\n",
        "success, prev_frame = vidcap.read()\n",
        "prev_frame = cv2.resize(prev_frame, (0,0), fx=360/prev_frame.shape[0], fy=360/prev_frame.shape[0])\n",
        "\n",
        "# Set the initial frame number to zero\n",
        "frame_num = 0\n",
        "\n",
        "# Initialize variables to keep track of the frame with the least motion blur\n",
        "min_variance = float('inf')\n",
        "min_variance_frame = None\n",
        "\n",
        "# Loop through the frames\n",
        "while success:\n",
        "\n",
        "  # Read the next frame\n",
        "  success, curr_frame = vidcap.read()\n",
        "\n",
        "  if success:\n",
        "    # Resize the current frame to a height of 360 pixels\n",
        "    curr_frame = cv2.resize(curr_frame, (0,0), fx=360/curr_frame.shape[0], fy=360/curr_frame.shape[0])\n",
        "\n",
        "    # Calculate the SAD score between the current and previous frames\n",
        "    sad_score = cv2.absdiff(curr_frame, prev_frame).sum()\n",
        "\n",
        "    # Check if the SAD score exceeds the threshold\n",
        "    if sad_score > threshold:\n",
        "\n",
        "      # Calculate the Laplacian variance of the current frame\n",
        "      gray = cv2.cvtColor(curr_frame, cv2.COLOR_BGR2GRAY)\n",
        "      lap_var = cv2.Laplacian(gray, cv2.CV_64F).var()\n",
        "\n",
        "      # Update the minimum variance and the corresponding frame if necessary\n",
        "      if lap_var < min_variance:\n",
        "        min_variance = lap_var\n",
        "        min_variance_frame = curr_frame\n",
        "\n",
        "      # Save the key frame\n",
        "      cv2.imwrite(\"key_frames/key_frame_%d.jpg\" % frame_num, curr_frame)\n",
        "\n",
        "    # Update the previous frame\n",
        "    prev_frame = curr_frame.copy()\n",
        "\n",
        "    # Increment the frame number\n",
        "    frame_num += 1\n",
        "\n",
        "# Save the frame with the least motion blur as the final key frame\n",
        "cv2.imwrite(\"best_key_frame.jpg\", min_variance_frame)\n"
      ],
      "metadata": {
        "colab": {
          "base_uri": "https://localhost:8080/"
        },
        "id": "OtBXo0ayrNue",
        "outputId": "4e28a7e2-31a3-4209-f695-2b8bcb372c34"
      },
      "execution_count": 1,
      "outputs": [
        {
          "output_type": "execute_result",
          "data": {
            "text/plain": [
              "True"
            ]
          },
          "metadata": {},
          "execution_count": 1
        }
      ]
    }
  ]
}